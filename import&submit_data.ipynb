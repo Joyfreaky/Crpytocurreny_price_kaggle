{
 "cells": [
  {
   "cell_type": "code",
   "execution_count": 2,
   "metadata": {},
   "outputs": [],
   "source": [
    "! mkdir -p ~/.kaggle/ && \\\n",
    "  echo '{\"username\":\"joydipbhowmick\",\"key\":\"5bd4e6a1fec9fc7f8a93def26785a6d2\"}' > ~/.kaggle/kaggle.json && \\\n",
    "  chmod 600 ~/.kaggle/kaggle.json"
   ]
  },
  {
   "cell_type": "code",
   "execution_count": 3,
   "metadata": {},
   "outputs": [
    {
     "name": "stdout",
     "output_type": "stream",
     "text": [
      "Downloading cryptocurrencies-dataset.zip to /Users/joydipb/Documents/Kaggle/Crpytocurreny_price_kaggle\n",
      "  0%|                                               | 0.00/80.0k [00:00<?, ?B/s]\n",
      "100%|██████████████████████████████████████| 80.0k/80.0k [00:00<00:00, 26.0MB/s]\n"
     ]
    }
   ],
   "source": [
    "\n",
    "! kaggle datasets download -d himanshunakrani/cryptocurrencies-dataset"
   ]
  },
  {
   "cell_type": "code",
   "execution_count": 4,
   "metadata": {},
   "outputs": [
    {
     "name": "stdout",
     "output_type": "stream",
     "text": [
      "Archive:  cryptocurrencies-dataset.zip\n",
      "  inflating: crypto prices.csv       \n"
     ]
    }
   ],
   "source": [
    "! unzip cryptocurrencies-dataset.zip\n"
   ]
  },
  {
   "cell_type": "code",
   "execution_count": 5,
   "metadata": {},
   "outputs": [
    {
     "data": {
      "text/plain": [
       "415"
      ]
     },
     "execution_count": 5,
     "metadata": {},
     "output_type": "execute_result"
    }
   ],
   "source": [
    "import gc\n",
    "gc.collect()\n"
   ]
  }
 ],
 "metadata": {
  "kernelspec": {
   "display_name": "Python 3.8.5 64-bit",
   "language": "python",
   "name": "python3"
  },
  "language_info": {
   "codemirror_mode": {
    "name": "ipython",
    "version": 3
   },
   "file_extension": ".py",
   "mimetype": "text/x-python",
   "name": "python",
   "nbconvert_exporter": "python",
   "pygments_lexer": "ipython3",
   "version": "3.8.5"
  },
  "orig_nbformat": 4,
  "vscode": {
   "interpreter": {
    "hash": "aee8b7b246df8f9039afb4144a1f6fd8d2ca17a180786b69acc140d282b71a49"
   }
  }
 },
 "nbformat": 4,
 "nbformat_minor": 2
}
